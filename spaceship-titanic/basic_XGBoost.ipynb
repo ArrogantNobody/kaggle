{
 "cells": [
  {
   "cell_type": "code",
   "execution_count": 1,
   "metadata": {},
   "outputs": [],
   "source": [
    "import os\n",
    "import numpy as np\n",
    "import pandas as pd \n",
    "from pathlib import Path\n",
    "from datetime import datetime\n",
    "\n",
    "\n",
    "from xgboost import XGBClassifier\n",
    "from sklearn.metrics import confusion_matrix, f1_score\n",
    "from sklearn.model_selection import RandomizedSearchCV, StratifiedKFold, train_test_split, GridSearchCV \n",
    "from sklearn.preprocessing import StandardScaler, MinMaxScaler, LabelEncoder"
   ]
  },
  {
   "cell_type": "markdown",
   "metadata": {},
   "source": [
    "Read the processed data in the previous notebook"
   ]
  },
  {
   "cell_type": "code",
   "execution_count": 2,
   "metadata": {},
   "outputs": [
    {
     "data": {
      "text/html": [
       "<div>\n",
       "<style scoped>\n",
       "    .dataframe tbody tr th:only-of-type {\n",
       "        vertical-align: middle;\n",
       "    }\n",
       "\n",
       "    .dataframe tbody tr th {\n",
       "        vertical-align: top;\n",
       "    }\n",
       "\n",
       "    .dataframe thead th {\n",
       "        text-align: right;\n",
       "    }\n",
       "</style>\n",
       "<table border=\"1\" class=\"dataframe\">\n",
       "  <thead>\n",
       "    <tr style=\"text-align: right;\">\n",
       "      <th></th>\n",
       "      <th>CryoSleep</th>\n",
       "      <th>Age</th>\n",
       "      <th>VIP</th>\n",
       "      <th>RoomService</th>\n",
       "      <th>FoodCourt</th>\n",
       "      <th>ShoppingMall</th>\n",
       "      <th>Spa</th>\n",
       "      <th>VRDeck</th>\n",
       "      <th>Transported</th>\n",
       "      <th>Num</th>\n",
       "      <th>group_id</th>\n",
       "      <th>HomePlanet_Earth</th>\n",
       "      <th>HomePlanet_Europa</th>\n",
       "      <th>HomePlanet_Mars</th>\n",
       "      <th>Destination_55 Cancri e</th>\n",
       "      <th>Destination_PSO J318.5-22</th>\n",
       "      <th>Destination_TRAPPIST-1e</th>\n",
       "      <th>Side_P</th>\n",
       "      <th>Side_S</th>\n",
       "    </tr>\n",
       "  </thead>\n",
       "  <tbody>\n",
       "    <tr>\n",
       "      <th>2470</th>\n",
       "      <td>0</td>\n",
       "      <td>1</td>\n",
       "      <td>0</td>\n",
       "      <td>490.0</td>\n",
       "      <td>313.0</td>\n",
       "      <td>0.0</td>\n",
       "      <td>6.0</td>\n",
       "      <td>0.0</td>\n",
       "      <td>False</td>\n",
       "      <td>421.0</td>\n",
       "      <td>1</td>\n",
       "      <td>1</td>\n",
       "      <td>0</td>\n",
       "      <td>0</td>\n",
       "      <td>0</td>\n",
       "      <td>0</td>\n",
       "      <td>1</td>\n",
       "      <td>0</td>\n",
       "      <td>1</td>\n",
       "    </tr>\n",
       "    <tr>\n",
       "      <th>2560</th>\n",
       "      <td>0</td>\n",
       "      <td>2</td>\n",
       "      <td>0</td>\n",
       "      <td>0.0</td>\n",
       "      <td>0.0</td>\n",
       "      <td>0.0</td>\n",
       "      <td>0.0</td>\n",
       "      <td>0.0</td>\n",
       "      <td>True</td>\n",
       "      <td>570.0</td>\n",
       "      <td>1</td>\n",
       "      <td>0</td>\n",
       "      <td>0</td>\n",
       "      <td>1</td>\n",
       "      <td>0</td>\n",
       "      <td>0</td>\n",
       "      <td>1</td>\n",
       "      <td>1</td>\n",
       "      <td>0</td>\n",
       "    </tr>\n",
       "    <tr>\n",
       "      <th>4387</th>\n",
       "      <td>0</td>\n",
       "      <td>0</td>\n",
       "      <td>0</td>\n",
       "      <td>0.0</td>\n",
       "      <td>0.0</td>\n",
       "      <td>0.0</td>\n",
       "      <td>0.0</td>\n",
       "      <td>0.0</td>\n",
       "      <td>False</td>\n",
       "      <td>757.0</td>\n",
       "      <td>7</td>\n",
       "      <td>1</td>\n",
       "      <td>0</td>\n",
       "      <td>0</td>\n",
       "      <td>0</td>\n",
       "      <td>0</td>\n",
       "      <td>1</td>\n",
       "      <td>1</td>\n",
       "      <td>0</td>\n",
       "    </tr>\n",
       "    <tr>\n",
       "      <th>8300</th>\n",
       "      <td>0</td>\n",
       "      <td>1</td>\n",
       "      <td>1</td>\n",
       "      <td>0.0</td>\n",
       "      <td>2191.0</td>\n",
       "      <td>863.0</td>\n",
       "      <td>207.0</td>\n",
       "      <td>6262.0</td>\n",
       "      <td>False</td>\n",
       "      <td>329.0</td>\n",
       "      <td>2</td>\n",
       "      <td>0</td>\n",
       "      <td>1</td>\n",
       "      <td>0</td>\n",
       "      <td>0</td>\n",
       "      <td>1</td>\n",
       "      <td>0</td>\n",
       "      <td>0</td>\n",
       "      <td>1</td>\n",
       "    </tr>\n",
       "    <tr>\n",
       "      <th>8129</th>\n",
       "      <td>0</td>\n",
       "      <td>2</td>\n",
       "      <td>0</td>\n",
       "      <td>51.0</td>\n",
       "      <td>6.0</td>\n",
       "      <td>87.0</td>\n",
       "      <td>21.0</td>\n",
       "      <td>404.0</td>\n",
       "      <td>False</td>\n",
       "      <td>1679.0</td>\n",
       "      <td>1</td>\n",
       "      <td>1</td>\n",
       "      <td>0</td>\n",
       "      <td>0</td>\n",
       "      <td>0</td>\n",
       "      <td>1</td>\n",
       "      <td>0</td>\n",
       "      <td>0</td>\n",
       "      <td>1</td>\n",
       "    </tr>\n",
       "  </tbody>\n",
       "</table>\n",
       "</div>"
      ],
      "text/plain": [
       "      CryoSleep  Age  VIP  RoomService  FoodCourt  ShoppingMall    Spa  \\\n",
       "2470          0    1    0        490.0      313.0           0.0    6.0   \n",
       "2560          0    2    0          0.0        0.0           0.0    0.0   \n",
       "4387          0    0    0          0.0        0.0           0.0    0.0   \n",
       "8300          0    1    1          0.0     2191.0         863.0  207.0   \n",
       "8129          0    2    0         51.0        6.0          87.0   21.0   \n",
       "\n",
       "      VRDeck  Transported     Num  group_id  HomePlanet_Earth  \\\n",
       "2470     0.0        False   421.0         1                 1   \n",
       "2560     0.0         True   570.0         1                 0   \n",
       "4387     0.0        False   757.0         7                 1   \n",
       "8300  6262.0        False   329.0         2                 0   \n",
       "8129   404.0        False  1679.0         1                 1   \n",
       "\n",
       "      HomePlanet_Europa  HomePlanet_Mars  Destination_55 Cancri e  \\\n",
       "2470                  0                0                        0   \n",
       "2560                  0                1                        0   \n",
       "4387                  0                0                        0   \n",
       "8300                  1                0                        0   \n",
       "8129                  0                0                        0   \n",
       "\n",
       "      Destination_PSO J318.5-22  Destination_TRAPPIST-1e  Side_P  Side_S  \n",
       "2470                          0                        1       0       1  \n",
       "2560                          0                        1       1       0  \n",
       "4387                          0                        1       1       0  \n",
       "8300                          1                        0       0       1  \n",
       "8129                          1                        0       0       1  "
      ]
     },
     "execution_count": 2,
     "metadata": {},
     "output_type": "execute_result"
    }
   ],
   "source": [
    "train_df = pd.read_csv('processed data\\processed_train_Agebin.csv')\n",
    "test_df = pd.read_csv('processed data\\processed_test_Agebin.csv')\n",
    "TARGET = 'Transported'\n",
    "\n",
    "train_df.sample(5)"
   ]
  },
  {
   "cell_type": "code",
   "execution_count": 3,
   "metadata": {},
   "outputs": [
    {
     "data": {
      "text/plain": [
       "0       False\n",
       "1        True\n",
       "2       False\n",
       "3       False\n",
       "4        True\n",
       "        ...  \n",
       "8688    False\n",
       "8689    False\n",
       "8690     True\n",
       "8691    False\n",
       "8692     True\n",
       "Name: Transported, Length: 8693, dtype: bool"
      ]
     },
     "execution_count": 3,
     "metadata": {},
     "output_type": "execute_result"
    }
   ],
   "source": [
    "X = train_df.drop(TARGET, axis=1)\n",
    "y = train_df[TARGET]\n",
    "y"
   ]
  },
  {
   "cell_type": "code",
   "execution_count": 4,
   "metadata": {},
   "outputs": [
    {
     "data": {
      "text/plain": [
       "(6954, 18)"
      ]
     },
     "execution_count": 4,
     "metadata": {},
     "output_type": "execute_result"
    }
   ],
   "source": [
    "X_train, X_valid, y_train, y_valid = train_test_split(X, y, test_size = 0.2, random_state = 42)\n",
    "X_train.shape"
   ]
  },
  {
   "cell_type": "markdown",
   "metadata": {},
   "source": [
    "Now we train the base model with default parameter."
   ]
  },
  {
   "cell_type": "code",
   "execution_count": 5,
   "metadata": {},
   "outputs": [
    {
     "name": "stderr",
     "output_type": "stream",
     "text": [
      "c:\\Users\\Gingi\\anaconda3\\lib\\site-packages\\xgboost\\sklearn.py:793: UserWarning: `eval_metric` in `fit` method is deprecated for better compatibility with scikit-learn, use `eval_metric` in constructor or`set_params` instead.\n",
      "  warnings.warn(\n"
     ]
    },
    {
     "name": "stdout",
     "output_type": "stream",
     "text": [
      "Performance on train data: 0.912568306010929\n"
     ]
    }
   ],
   "source": [
    "xgb_model = XGBClassifier()\n",
    "model = xgb_model.fit(X_train, y_train, eval_metric='logloss')\n",
    "\n",
    "print(\"Performance on train data:\", model.score(X_train, y_train))"
   ]
  },
  {
   "cell_type": "code",
   "execution_count": 6,
   "metadata": {},
   "outputs": [
    {
     "name": "stdout",
     "output_type": "stream",
     "text": [
      "Performance on validation data: 0.787809085681426\n"
     ]
    }
   ],
   "source": [
    "yp = model.predict_proba(X_valid)\n",
    "yp2 = (yp[:,1] > 0.5) \n",
    "print(\"Performance on validation data:\", f1_score(y_valid, yp2, average='micro'))"
   ]
  },
  {
   "cell_type": "code",
   "execution_count": 7,
   "metadata": {},
   "outputs": [
    {
     "name": "stdout",
     "output_type": "stream",
     "text": [
      "Performance on validation data: 0.787809085681426\n"
     ]
    }
   ],
   "source": [
    "y_pred_v = model.predict(X_valid)\n",
    "print(\"Performance on validation data:\", f1_score(y_valid, y_pred_v, average='micro'))"
   ]
  },
  {
   "cell_type": "markdown",
   "metadata": {},
   "source": [
    "This is the baseline, then we can strat fine tune the parameter"
   ]
  },
  {
   "cell_type": "code",
   "execution_count": 8,
   "metadata": {},
   "outputs": [
    {
     "name": "stdout",
     "output_type": "stream",
     "text": [
      "Fitting 5 folds for each of 50 candidates, totalling 250 fits\n"
     ]
    },
    {
     "name": "stderr",
     "output_type": "stream",
     "text": [
      "[Parallel(n_jobs=4)]: Using backend LokyBackend with 4 concurrent workers.\n",
      "[Parallel(n_jobs=4)]: Done  33 tasks      | elapsed:   16.3s\n",
      "[Parallel(n_jobs=4)]: Done 154 tasks      | elapsed:  1.4min\n",
      "[Parallel(n_jobs=4)]: Done 250 out of 250 | elapsed:  2.2min finished\n"
     ]
    },
    {
     "name": "stdout",
     "output_type": "stream",
     "text": [
      "[18:57:53] WARNING: C:/Users/Administrator/workspace/xgboost-win64_release_1.6.0/src/learner.cc:627: \n",
      "Parameters: { \"silent\" } might not be used.\n",
      "\n",
      "  This could be a false alarm, with some parameters getting used by language bindings but\n",
      "  then being mistakenly passed down to XGBoost core, or some parameter actually being used\n",
      "  but getting flagged wrongly here. Please open an issue if you find any such cases.\n",
      "\n",
      "\n",
      "\n",
      " Time taken: 0 hours 2 minutes and 13.31 seconds.\n",
      "\n",
      " All results:\n",
      "{'mean_fit_time': array([1.79340229, 1.42359099, 1.90930243, 1.50796542, 1.88495479,\n",
      "       1.80557404, 1.38729324, 1.64380817, 2.53921852, 2.59207125,\n",
      "       2.11434894, 2.25954566, 2.44007998, 2.71354475, 2.52763338,\n",
      "       2.41653543, 2.26833453, 1.93680758, 1.9306056 , 1.79499121,\n",
      "       1.40683684, 3.0909265 , 2.14187679, 2.10695758, 2.686235  ,\n",
      "       1.62945042, 1.52831116, 2.2507782 , 2.11794567, 1.89552374,\n",
      "       2.34353638, 1.80751371, 1.56327925, 1.72019801, 1.62525468,\n",
      "       2.17538099, 1.23070731, 2.84379215, 1.46468139, 2.1656065 ,\n",
      "       2.26373405, 2.7340919 , 1.37292728, 1.47046113, 1.85643349,\n",
      "       2.53481507, 2.13122144, 2.10697036, 1.87538276, 2.3594933 ]), 'std_fit_time': array([0.03434293, 0.0115211 , 0.01370504, 0.01106576, 0.00430767,\n",
      "       0.01675351, 0.00631983, 0.02586222, 0.03162564, 0.01657829,\n",
      "       0.01498615, 0.00486307, 0.00311427, 0.00336231, 0.22849791,\n",
      "       0.12098921, 0.01200908, 0.01142841, 0.00927442, 0.00331112,\n",
      "       0.00833479, 0.01603198, 0.0144656 , 0.01861602, 0.008521  ,\n",
      "       0.01047668, 0.01973214, 0.01084112, 0.02606297, 0.00636201,\n",
      "       0.02473018, 0.01013589, 0.01944373, 0.00440176, 0.00431362,\n",
      "       0.0353081 , 0.01735569, 0.01946274, 0.04748604, 0.02954946,\n",
      "       0.03595067, 0.02312689, 0.0078934 , 0.00381678, 0.01150128,\n",
      "       0.01957709, 0.0158387 , 0.013111  , 0.01725827, 0.01823979]), 'mean_score_time': array([0.01458282, 0.01077142, 0.0109724 , 0.0111804 , 0.01476455,\n",
      "       0.01696706, 0.01057043, 0.01316566, 0.01416793, 0.01635141,\n",
      "       0.0119679 , 0.01835999, 0.01355176, 0.01397343, 0.01815691,\n",
      "       0.01356821, 0.0147583 , 0.01077704, 0.01376338, 0.01097093,\n",
      "       0.01137514, 0.01696591, 0.01396179, 0.01417174, 0.01673789,\n",
      "       0.01078219, 0.01136975, 0.01556425, 0.01315932, 0.01420002,\n",
      "       0.01675763, 0.01476102, 0.01136975, 0.01356888, 0.01096163,\n",
      "       0.01077666, 0.01296983, 0.01416149, 0.01118121, 0.01117043,\n",
      "       0.01457205, 0.01496491, 0.01058168, 0.01136937, 0.01714931,\n",
      "       0.01423688, 0.01754317, 0.01236153, 0.01376314, 0.01695442]), 'std_score_time': array([4.93258284e-04, 3.98826742e-04, 2.87924369e-06, 7.51215530e-04,\n",
      "       7.38122066e-04, 1.23867573e-05, 4.78713174e-04, 3.90819317e-03,\n",
      "       3.96445797e-04, 4.81921588e-04, 6.38609049e-04, 4.80634083e-04,\n",
      "       4.92074263e-04, 6.28419861e-04, 1.92769571e-03, 4.92420048e-04,\n",
      "       7.48773024e-04, 9.72406318e-04, 3.99565992e-04, 6.30901938e-04,\n",
      "       4.84472053e-04, 6.21264021e-04, 6.29635924e-04, 4.06051426e-04,\n",
      "       3.90435372e-04, 4.02528023e-04, 4.88772401e-04, 4.93522068e-04,\n",
      "       3.88291265e-04, 4.74429307e-04, 7.43310834e-04, 3.98898420e-04,\n",
      "       4.88577679e-04, 4.92919766e-04, 1.07849561e-05, 3.87978623e-04,\n",
      "       3.98727409e-03, 4.12912693e-04, 4.07988477e-04, 7.46531363e-04,\n",
      "       4.97598609e-04, 8.98240731e-04, 4.96832797e-04, 4.89181442e-04,\n",
      "       9.77792894e-04, 3.84440844e-04, 4.80513269e-04, 7.86863395e-04,\n",
      "       7.46340310e-04, 1.61351436e-05]), 'param_subsample': masked_array(data=[0.8, 1.0, 0.8, 0.6, 0.6, 1.0, 1.0, 1.0, 0.8, 0.8, 1.0,\n",
      "                   0.6, 0.8, 0.6, 1.0, 0.6, 0.6, 0.8, 0.6, 0.6, 0.8, 0.8,\n",
      "                   0.8, 0.8, 1.0, 1.0, 0.6, 1.0, 0.8, 0.6, 0.6, 0.8, 0.6,\n",
      "                   0.8, 0.8, 0.6, 1.0, 0.6, 0.8, 0.6, 1.0, 1.0, 1.0, 0.6,\n",
      "                   1.0, 0.8, 0.8, 1.0, 1.0, 0.6],\n",
      "             mask=[False, False, False, False, False, False, False, False,\n",
      "                   False, False, False, False, False, False, False, False,\n",
      "                   False, False, False, False, False, False, False, False,\n",
      "                   False, False, False, False, False, False, False, False,\n",
      "                   False, False, False, False, False, False, False, False,\n",
      "                   False, False, False, False, False, False, False, False,\n",
      "                   False, False],\n",
      "       fill_value='?',\n",
      "            dtype=object), 'param_min_child_weight': masked_array(data=[10, 1, 10, 10, 10, 5, 1, 10, 5, 5, 5, 10, 5, 1, 1, 5,\n",
      "                   10, 1, 1, 10, 1, 5, 1, 10, 5, 10, 5, 1, 1, 10, 10, 5,\n",
      "                   1, 10, 10, 1, 1, 10, 1, 1, 5, 1, 5, 10, 1, 5, 10, 10,\n",
      "                   1, 1],\n",
      "             mask=[False, False, False, False, False, False, False, False,\n",
      "                   False, False, False, False, False, False, False, False,\n",
      "                   False, False, False, False, False, False, False, False,\n",
      "                   False, False, False, False, False, False, False, False,\n",
      "                   False, False, False, False, False, False, False, False,\n",
      "                   False, False, False, False, False, False, False, False,\n",
      "                   False, False],\n",
      "       fill_value='?',\n",
      "            dtype=object), 'param_max_depth': masked_array(data=[4, 3, 3, 3, 4, 5, 3, 3, 4, 5, 4, 5, 4, 4, 5, 4, 4, 3,\n",
      "                   4, 3, 3, 5, 4, 4, 5, 3, 3, 5, 4, 4, 5, 4, 3, 4, 3, 3,\n",
      "                   3, 4, 3, 3, 5, 5, 3, 3, 5, 4, 5, 4, 4, 5],\n",
      "             mask=[False, False, False, False, False, False, False, False,\n",
      "                   False, False, False, False, False, False, False, False,\n",
      "                   False, False, False, False, False, False, False, False,\n",
      "                   False, False, False, False, False, False, False, False,\n",
      "                   False, False, False, False, False, False, False, False,\n",
      "                   False, False, False, False, False, False, False, False,\n",
      "                   False, False],\n",
      "       fill_value='?',\n",
      "            dtype=object), 'param_gamma': masked_array(data=[1.5, 2, 5, 1, 1, 1.5, 0.5, 1.5, 2, 5, 2, 1.5, 0.5, 5,\n",
      "                   0.5, 5, 1, 2, 0.5, 1.5, 1.5, 5, 5, 2, 1, 1, 2, 1.5, 1,\n",
      "                   0.5, 5, 2, 0.5, 5, 5, 2, 1.5, 1, 2, 1.5, 5, 1, 0.5, 5,\n",
      "                   2, 1.5, 0.5, 2, 1, 5],\n",
      "             mask=[False, False, False, False, False, False, False, False,\n",
      "                   False, False, False, False, False, False, False, False,\n",
      "                   False, False, False, False, False, False, False, False,\n",
      "                   False, False, False, False, False, False, False, False,\n",
      "                   False, False, False, False, False, False, False, False,\n",
      "                   False, False, False, False, False, False, False, False,\n",
      "                   False, False],\n",
      "       fill_value='?',\n",
      "            dtype=object), 'param_colsample_bytree': masked_array(data=[0.6, 0.8, 1.0, 0.6, 0.6, 0.6, 0.8, 1.0, 1.0, 0.8, 1.0,\n",
      "                   0.6, 1.0, 1.0, 0.8, 0.8, 0.8, 1.0, 0.6, 0.8, 0.6, 1.0,\n",
      "                   0.8, 0.8, 1.0, 1.0, 0.6, 0.8, 0.8, 0.6, 0.6, 0.6, 0.6,\n",
      "                   0.6, 0.8, 1.0, 0.6, 1.0, 0.6, 1.0, 0.8, 1.0, 0.8, 0.6,\n",
      "                   0.6, 1.0, 0.6, 1.0, 0.8, 0.6],\n",
      "             mask=[False, False, False, False, False, False, False, False,\n",
      "                   False, False, False, False, False, False, False, False,\n",
      "                   False, False, False, False, False, False, False, False,\n",
      "                   False, False, False, False, False, False, False, False,\n",
      "                   False, False, False, False, False, False, False, False,\n",
      "                   False, False, False, False, False, False, False, False,\n",
      "                   False, False],\n",
      "       fill_value='?',\n",
      "            dtype=object), 'params': [{'subsample': 0.8, 'min_child_weight': 10, 'max_depth': 4, 'gamma': 1.5, 'colsample_bytree': 0.6}, {'subsample': 1.0, 'min_child_weight': 1, 'max_depth': 3, 'gamma': 2, 'colsample_bytree': 0.8}, {'subsample': 0.8, 'min_child_weight': 10, 'max_depth': 3, 'gamma': 5, 'colsample_bytree': 1.0}, {'subsample': 0.6, 'min_child_weight': 10, 'max_depth': 3, 'gamma': 1, 'colsample_bytree': 0.6}, {'subsample': 0.6, 'min_child_weight': 10, 'max_depth': 4, 'gamma': 1, 'colsample_bytree': 0.6}, {'subsample': 1.0, 'min_child_weight': 5, 'max_depth': 5, 'gamma': 1.5, 'colsample_bytree': 0.6}, {'subsample': 1.0, 'min_child_weight': 1, 'max_depth': 3, 'gamma': 0.5, 'colsample_bytree': 0.8}, {'subsample': 1.0, 'min_child_weight': 10, 'max_depth': 3, 'gamma': 1.5, 'colsample_bytree': 1.0}, {'subsample': 0.8, 'min_child_weight': 5, 'max_depth': 4, 'gamma': 2, 'colsample_bytree': 1.0}, {'subsample': 0.8, 'min_child_weight': 5, 'max_depth': 5, 'gamma': 5, 'colsample_bytree': 0.8}, {'subsample': 1.0, 'min_child_weight': 5, 'max_depth': 4, 'gamma': 2, 'colsample_bytree': 1.0}, {'subsample': 0.6, 'min_child_weight': 10, 'max_depth': 5, 'gamma': 1.5, 'colsample_bytree': 0.6}, {'subsample': 0.8, 'min_child_weight': 5, 'max_depth': 4, 'gamma': 0.5, 'colsample_bytree': 1.0}, {'subsample': 0.6, 'min_child_weight': 1, 'max_depth': 4, 'gamma': 5, 'colsample_bytree': 1.0}, {'subsample': 1.0, 'min_child_weight': 1, 'max_depth': 5, 'gamma': 0.5, 'colsample_bytree': 0.8}, {'subsample': 0.6, 'min_child_weight': 5, 'max_depth': 4, 'gamma': 5, 'colsample_bytree': 0.8}, {'subsample': 0.6, 'min_child_weight': 10, 'max_depth': 4, 'gamma': 1, 'colsample_bytree': 0.8}, {'subsample': 0.8, 'min_child_weight': 1, 'max_depth': 3, 'gamma': 2, 'colsample_bytree': 1.0}, {'subsample': 0.6, 'min_child_weight': 1, 'max_depth': 4, 'gamma': 0.5, 'colsample_bytree': 0.6}, {'subsample': 0.6, 'min_child_weight': 10, 'max_depth': 3, 'gamma': 1.5, 'colsample_bytree': 0.8}, {'subsample': 0.8, 'min_child_weight': 1, 'max_depth': 3, 'gamma': 1.5, 'colsample_bytree': 0.6}, {'subsample': 0.8, 'min_child_weight': 5, 'max_depth': 5, 'gamma': 5, 'colsample_bytree': 1.0}, {'subsample': 0.8, 'min_child_weight': 1, 'max_depth': 4, 'gamma': 5, 'colsample_bytree': 0.8}, {'subsample': 0.8, 'min_child_weight': 10, 'max_depth': 4, 'gamma': 2, 'colsample_bytree': 0.8}, {'subsample': 1.0, 'min_child_weight': 5, 'max_depth': 5, 'gamma': 1, 'colsample_bytree': 1.0}, {'subsample': 1.0, 'min_child_weight': 10, 'max_depth': 3, 'gamma': 1, 'colsample_bytree': 1.0}, {'subsample': 0.6, 'min_child_weight': 5, 'max_depth': 3, 'gamma': 2, 'colsample_bytree': 0.6}, {'subsample': 1.0, 'min_child_weight': 1, 'max_depth': 5, 'gamma': 1.5, 'colsample_bytree': 0.8}, {'subsample': 0.8, 'min_child_weight': 1, 'max_depth': 4, 'gamma': 1, 'colsample_bytree': 0.8}, {'subsample': 0.6, 'min_child_weight': 10, 'max_depth': 4, 'gamma': 0.5, 'colsample_bytree': 0.6}, {'subsample': 0.6, 'min_child_weight': 10, 'max_depth': 5, 'gamma': 5, 'colsample_bytree': 0.6}, {'subsample': 0.8, 'min_child_weight': 5, 'max_depth': 4, 'gamma': 2, 'colsample_bytree': 0.6}, {'subsample': 0.6, 'min_child_weight': 1, 'max_depth': 3, 'gamma': 0.5, 'colsample_bytree': 0.6}, {'subsample': 0.8, 'min_child_weight': 10, 'max_depth': 4, 'gamma': 5, 'colsample_bytree': 0.6}, {'subsample': 0.8, 'min_child_weight': 10, 'max_depth': 3, 'gamma': 5, 'colsample_bytree': 0.8}, {'subsample': 0.6, 'min_child_weight': 1, 'max_depth': 3, 'gamma': 2, 'colsample_bytree': 1.0}, {'subsample': 1.0, 'min_child_weight': 1, 'max_depth': 3, 'gamma': 1.5, 'colsample_bytree': 0.6}, {'subsample': 0.6, 'min_child_weight': 10, 'max_depth': 4, 'gamma': 1, 'colsample_bytree': 1.0}, {'subsample': 0.8, 'min_child_weight': 1, 'max_depth': 3, 'gamma': 2, 'colsample_bytree': 0.6}, {'subsample': 0.6, 'min_child_weight': 1, 'max_depth': 3, 'gamma': 1.5, 'colsample_bytree': 1.0}, {'subsample': 1.0, 'min_child_weight': 5, 'max_depth': 5, 'gamma': 5, 'colsample_bytree': 0.8}, {'subsample': 1.0, 'min_child_weight': 1, 'max_depth': 5, 'gamma': 1, 'colsample_bytree': 1.0}, {'subsample': 1.0, 'min_child_weight': 5, 'max_depth': 3, 'gamma': 0.5, 'colsample_bytree': 0.8}, {'subsample': 0.6, 'min_child_weight': 10, 'max_depth': 3, 'gamma': 5, 'colsample_bytree': 0.6}, {'subsample': 1.0, 'min_child_weight': 1, 'max_depth': 5, 'gamma': 2, 'colsample_bytree': 0.6}, {'subsample': 0.8, 'min_child_weight': 5, 'max_depth': 4, 'gamma': 1.5, 'colsample_bytree': 1.0}, {'subsample': 0.8, 'min_child_weight': 10, 'max_depth': 5, 'gamma': 0.5, 'colsample_bytree': 0.6}, {'subsample': 1.0, 'min_child_weight': 10, 'max_depth': 4, 'gamma': 2, 'colsample_bytree': 1.0}, {'subsample': 1.0, 'min_child_weight': 1, 'max_depth': 4, 'gamma': 1, 'colsample_bytree': 0.8}, {'subsample': 0.6, 'min_child_weight': 1, 'max_depth': 5, 'gamma': 5, 'colsample_bytree': 0.6}], 'split0_test_score': array([0.89876956, 0.89860818, 0.89898451, 0.89750234, 0.89790777,\n",
      "       0.90059697, 0.89843886, 0.89841638, 0.8993152 , 0.90005397,\n",
      "       0.89819944, 0.89786147, 0.89944946, 0.89953412, 0.89912075,\n",
      "       0.8989521 , 0.89860024, 0.89987539, 0.89937076, 0.89827153,\n",
      "       0.89826889, 0.89931388, 0.89939589, 0.89935621, 0.89836677,\n",
      "       0.89827286, 0.89810156, 0.89836942, 0.90031985, 0.89780592,\n",
      "       0.89871136, 0.89937869, 0.89858437, 0.89795407, 0.898464  ,\n",
      "       0.89996799, 0.8968317 , 0.89791042, 0.89857776, 0.90029604,\n",
      "       0.89910488, 0.8989025 , 0.89903676, 0.89693223, 0.89902088,\n",
      "       0.89940647, 0.89970542, 0.89814653, 0.89947989, 0.89948716]), 'split1_test_score': array([0.8808116 , 0.87754898, 0.87804899, 0.87875337, 0.88156029,\n",
      "       0.88036318, 0.87789423, 0.87815878, 0.88125804, 0.88187114,\n",
      "       0.88061186, 0.88142074, 0.88093065, 0.88130103, 0.88095446,\n",
      "       0.88102457, 0.88241414, 0.87838233, 0.88105499, 0.87983275,\n",
      "       0.87852585, 0.88185394, 0.88038038, 0.88045114, 0.88136783,\n",
      "       0.87821897, 0.87849939, 0.88071504, 0.88041278, 0.88164627,\n",
      "       0.88110129, 0.8812706 , 0.87873419, 0.87940814, 0.87782676,\n",
      "       0.87941608, 0.87692331, 0.88247697, 0.87865813, 0.87939954,\n",
      "       0.88061186, 0.88148555, 0.87857678, 0.8772421 , 0.88008408,\n",
      "       0.88123092, 0.88108938, 0.88148688, 0.88082813, 0.88144587]), 'split2_test_score': array([0.88842217, 0.88977801, 0.88695918, 0.88667016, 0.88695455,\n",
      "       0.89032762, 0.8899341 , 0.88907364, 0.88858289, 0.88937126,\n",
      "       0.88877006, 0.88825219, 0.88834545, 0.88812785, 0.88851609,\n",
      "       0.88830907, 0.88657889, 0.88887191, 0.88988053, 0.88657492,\n",
      "       0.88821317, 0.8883514 , 0.88924626, 0.88743075, 0.8876166 ,\n",
      "       0.8891153 , 0.88764041, 0.88820854, 0.88940036, 0.88705244,\n",
      "       0.88786065, 0.88889175, 0.88792349, 0.88759808, 0.88693604,\n",
      "       0.88858619, 0.88820788, 0.88700945, 0.88813513, 0.88844796,\n",
      "       0.8879883 , 0.8876252 , 0.889237  , 0.8860306 , 0.89020527,\n",
      "       0.88877535, 0.88910009, 0.88845061, 0.88935671, 0.88997378]), 'split3_test_score': array([0.8946201 , 0.89574176, 0.89358583, 0.89246946, 0.89470617,\n",
      "       0.8963079 , 0.89583446, 0.89483595, 0.89657673, 0.89594041,\n",
      "       0.89623241, 0.89539878, 0.89651515, 0.8966191 , 0.89547625,\n",
      "       0.89608806, 0.89631584, 0.89501208, 0.89658666, 0.89395729,\n",
      "       0.89389439, 0.89650588, 0.89561794, 0.8958199 , 0.89580732,\n",
      "       0.89515113, 0.893903  , 0.89549743, 0.89659791, 0.89444198,\n",
      "       0.89443271, 0.8957464 , 0.89446184, 0.8942056 , 0.89300116,\n",
      "       0.89521271, 0.89336534, 0.89615494, 0.89420626, 0.89551068,\n",
      "       0.89560205, 0.89492733, 0.8954736 , 0.8915663 , 0.896927  ,\n",
      "       0.89644297, 0.8959702 , 0.89599537, 0.89671909, 0.89652773]), 'split4_test_score': array([0.89651912, 0.89568946, 0.89506307, 0.89631386, 0.89809303,\n",
      "       0.89707797, 0.89543519, 0.89462606, 0.89636021, 0.89756663,\n",
      "       0.89459295, 0.89682503, 0.89646813, 0.89681642, 0.896292  ,\n",
      "       0.89747128, 0.89670783, 0.89657937, 0.89776659, 0.89617613,\n",
      "       0.89635491, 0.8968098 , 0.89727264, 0.89649528, 0.89509949,\n",
      "       0.89435723, 0.89669326, 0.89590267, 0.89628075, 0.89797385,\n",
      "       0.89787386, 0.89718325, 0.89666347, 0.89631717, 0.89495646,\n",
      "       0.89692766, 0.89508889, 0.89675484, 0.89646747, 0.89693031,\n",
      "       0.8959563 , 0.89609469, 0.89605496, 0.89536236, 0.89731369,\n",
      "       0.89644695, 0.89698262, 0.8942387 , 0.89617745, 0.89844993]), 'mean_test_score': array([0.89182851, 0.89147328, 0.89052832, 0.89034184, 0.89184436,\n",
      "       0.89293473, 0.89150737, 0.89102216, 0.89241861, 0.89296068,\n",
      "       0.89168134, 0.89195164, 0.89234177, 0.8924797 , 0.89207191,\n",
      "       0.89236902, 0.89212339, 0.89174422, 0.89293191, 0.89096252,\n",
      "       0.89105144, 0.89256698, 0.89238262, 0.89191066, 0.8916516 ,\n",
      "       0.8910231 , 0.89096752, 0.89173862, 0.89260233, 0.89178409,\n",
      "       0.89199597, 0.89249414, 0.89127347, 0.89109661, 0.89023688,\n",
      "       0.89202213, 0.89008342, 0.89206132, 0.89120895, 0.89211691,\n",
      "       0.89185268, 0.89180705, 0.89167582, 0.88942672, 0.89271018,\n",
      "       0.89246053, 0.89256954, 0.89166362, 0.89251225, 0.89317689]), 'std_test_score': array([0.00649536, 0.0075321 , 0.007347  , 0.0069172 , 0.00653717,\n",
      "       0.00710064, 0.00734833, 0.00709184, 0.00662813, 0.00657678,\n",
      "       0.00636686, 0.00624731, 0.00679923, 0.00677655, 0.00656242,\n",
      "       0.00675842, 0.00641178, 0.0075758 , 0.0067611 , 0.00682195,\n",
      "       0.00711684, 0.00650503, 0.00689139, 0.00697319, 0.0062656 ,\n",
      "       0.00704701, 0.00719471, 0.00647173, 0.00704121, 0.00643123,\n",
      "       0.006654  , 0.00661675, 0.00722666, 0.00682356, 0.00724579,\n",
      "       0.00732255, 0.0071843 , 0.00617057, 0.00718202, 0.00744012,\n",
      "       0.00670494, 0.00636375, 0.00728445, 0.00715739, 0.00699274,\n",
      "       0.00662846, 0.00671999, 0.00602184, 0.0067254 , 0.00673393]), 'rank_test_score': array([27, 37, 46, 47, 26,  3, 36, 43, 13,  2, 32, 23, 16, 11, 19, 15, 17,\n",
      "       30,  4, 45, 41,  8, 14, 24, 35, 42, 44, 31,  6, 29, 22, 10, 38, 40,\n",
      "       48, 21, 49, 20, 39, 18, 25, 28, 33, 50,  5, 12,  7, 34,  9,  1])}\n",
      "\n",
      " Best estimator:\n",
      "XGBClassifier(base_score=0.5, booster='gbtree', callbacks=None,\n",
      "              colsample_bylevel=1, colsample_bynode=1, colsample_bytree=0.6,\n",
      "              early_stopping_rounds=None, enable_categorical=False,\n",
      "              eval_metric=None, gamma=5, gpu_id=-1, grow_policy='depthwise',\n",
      "              importance_type=None, interaction_constraints='',\n",
      "              learning_rate=0.02, max_bin=256, max_cat_to_onehot=4,\n",
      "              max_delta_step=0, max_depth=5, max_leaves=0, min_child_weight=1,\n",
      "              missing=nan, monotone_constraints='()', n_estimators=600,\n",
      "              n_jobs=1, nthread=1, num_parallel_tree=1, predictor='auto',\n",
      "              random_state=0, reg_alpha=0, ...)\n",
      "\n",
      " Best normalized gini score for 5-fold search with 50 parameter combinations:\n",
      "0.7863537864168666\n",
      "\n",
      " Best hyperparameters:\n",
      "{'subsample': 0.6, 'min_child_weight': 1, 'max_depth': 5, 'gamma': 5, 'colsample_bytree': 0.6}\n"
     ]
    }
   ],
   "source": [
    "# A parameter grid for XGBoost\n",
    "params = {\n",
    "        'min_child_weight': [1, 5, 10],\n",
    "        'gamma': [0.5, 1, 1.5, 2, 5],\n",
    "        'subsample': [0.6, 0.8, 1.0],\n",
    "        'colsample_bytree': [0.6, 0.8, 1.0],\n",
    "        'max_depth': [3, 4, 5]\n",
    "        }\n",
    "\n",
    "xgb = XGBClassifier(learning_rate=0.02, n_estimators=600, objective='binary:logistic', silent=True, nthread=1)\n",
    "\n",
    "def timer(start_time=None):\n",
    "    if not start_time:\n",
    "        start_time = datetime.now()\n",
    "        return start_time\n",
    "    elif start_time:\n",
    "        thour, temp_sec = divmod((datetime.now() - start_time).total_seconds(), 3600)\n",
    "        tmin, tsec = divmod(temp_sec, 60)\n",
    "        print('\\n Time taken: %i hours %i minutes and %s seconds.' % (thour, tmin, round(tsec, 2)))\n",
    "        \n",
    "folds = 5\n",
    "param_comb = 50\n",
    "\n",
    "skf = StratifiedKFold(n_splits=folds, shuffle = True, random_state = 1001)\n",
    "\n",
    "random_search = RandomizedSearchCV(xgb, param_distributions=params, n_iter=param_comb, scoring='roc_auc', n_jobs=4, cv=skf.split(X,y), verbose=2, random_state=42 )\n",
    "\n",
    "# Here we go\n",
    "start_time = timer(None) # timing starts from this point for \"start_time\" variable\n",
    "random_search.fit(X, y)\n",
    "timer(start_time) # timing ends here for \"start_time\" variable\n",
    "\n",
    "print('\\n All results:')\n",
    "print(random_search.cv_results_)\n",
    "print('\\n Best estimator:')\n",
    "print(random_search.best_estimator_)\n",
    "print('\\n Best normalized gini score for %d-fold search with %d parameter combinations:' % (folds, param_comb))\n",
    "print(random_search.best_score_ * 2 - 1)\n",
    "print('\\n Best hyperparameters:')\n",
    "print(random_search.best_params_)\n",
    "results = pd.DataFrame(random_search.cv_results_)\n",
    "results.to_csv('xgb-random-grid-search-results-01.csv', index=False)"
   ]
  },
  {
   "cell_type": "code",
   "execution_count": 9,
   "metadata": {},
   "outputs": [
    {
     "name": "stdout",
     "output_type": "stream",
     "text": [
      "[18:57:56] WARNING: C:/Users/Administrator/workspace/xgboost-win64_release_1.6.0/src/learner.cc:627: \n",
      "Parameters: { \"silent\" } might not be used.\n",
      "\n",
      "  This could be a false alarm, with some parameters getting used by language bindings but\n",
      "  then being mistakenly passed down to XGBoost core, or some parameter actually being used\n",
      "  but getting flagged wrongly here. Please open an issue if you find any such cases.\n",
      "\n",
      "\n"
     ]
    },
    {
     "name": "stderr",
     "output_type": "stream",
     "text": [
      "c:\\Users\\Gingi\\anaconda3\\lib\\site-packages\\xgboost\\sklearn.py:793: UserWarning: `eval_metric` in `fit` method is deprecated for better compatibility with scikit-learn, use `eval_metric` in constructor or`set_params` instead.\n",
      "  warnings.warn(\n"
     ]
    },
    {
     "name": "stdout",
     "output_type": "stream",
     "text": [
      "Performance on train data: 0.8239861949956859\n"
     ]
    }
   ],
   "source": [
    "# optimized_xgb = XGBClassifier(base_score=0.5, booster='gbtree', callbacks=None,\n",
    "#               colsample_bylevel=1, colsample_bynode=1, colsample_bytree=1.0,\n",
    "#               early_stopping_rounds=None, enable_categorical=False,\n",
    "#               eval_metric=None, gamma=5, gpu_id=-1, grow_policy='depthwise',\n",
    "#               importance_type=None, interaction_constraints='',\n",
    "#               learning_rate=0.02, max_bin=256, max_cat_to_onehot=4,\n",
    "#               max_delta_step=0, max_depth=5, max_leaves=0, min_child_weight=5, monotone_constraints='()', n_estimators=600,\n",
    "#               n_jobs=1, nthread=1, num_parallel_tree=1, predictor='auto',\n",
    "#               random_state=0, reg_alpha=0)\n",
    "optimized_xgb = random_search.best_estimator_\n",
    "optimized_model = optimized_xgb.fit(X_train, y_train, eval_metric='logloss')\n",
    "print(\"Performance on train data:\", optimized_model.score(X_train, y_train))"
   ]
  },
  {
   "cell_type": "code",
   "execution_count": 10,
   "metadata": {},
   "outputs": [
    {
     "name": "stdout",
     "output_type": "stream",
     "text": [
      "[18:57:58] WARNING: C:/Users/Administrator/workspace/xgboost-win64_release_1.6.0/src/learner.cc:627: \n",
      "Parameters: { \"silent\" } might not be used.\n",
      "\n",
      "  This could be a false alarm, with some parameters getting used by language bindings but\n",
      "  then being mistakenly passed down to XGBoost core, or some parameter actually being used\n",
      "  but getting flagged wrongly here. Please open an issue if you find any such cases.\n",
      "\n",
      "\n",
      "Performance on train data: 0.8239861949956859\n"
     ]
    }
   ],
   "source": [
    "optimized_model = optimized_xgb.fit(X_train, y_train, eval_metric='logloss')\n",
    "\n",
    "print(\"Performance on train data:\", optimized_model.score(X_train, y_train))"
   ]
  },
  {
   "cell_type": "code",
   "execution_count": 11,
   "metadata": {},
   "outputs": [],
   "source": [
    "import pickle\n",
    "# open a file, where you ant to store the data\n",
    "with open('xgboost_tuned.pkl', 'wb') as file:\n",
    "    pickle.dump(optimized_model, file)\n",
    "\n",
    "with open('xgboost_tuned.pkl', 'rb') as model:\n",
    "    xgboost_loaded = pickle.load(model)"
   ]
  },
  {
   "cell_type": "code",
   "execution_count": 12,
   "metadata": {},
   "outputs": [],
   "source": [
    "y_pred = xgboost_loaded.predict(test_df)"
   ]
  },
  {
   "cell_type": "code",
   "execution_count": 13,
   "metadata": {},
   "outputs": [
    {
     "data": {
      "text/plain": [
       "array([1, 0, 1, ..., 1, 1, 1])"
      ]
     },
     "execution_count": 13,
     "metadata": {},
     "output_type": "execute_result"
    }
   ],
   "source": [
    "y_pred"
   ]
  },
  {
   "cell_type": "code",
   "execution_count": 14,
   "metadata": {},
   "outputs": [],
   "source": [
    "#Create a  DataFrame with the passengers ids and our prediction\n",
    "submission_df = pd.read_csv('sample_submission.csv')\n",
    "submission_df[\"Transported\"] = y_pred\n",
    "submission_df[\"Transported\"] = submission_df[\"Transported\"].astype(bool)"
   ]
  },
  {
   "cell_type": "code",
   "execution_count": 15,
   "metadata": {},
   "outputs": [
    {
     "data": {
      "text/html": [
       "<div>\n",
       "<style scoped>\n",
       "    .dataframe tbody tr th:only-of-type {\n",
       "        vertical-align: middle;\n",
       "    }\n",
       "\n",
       "    .dataframe tbody tr th {\n",
       "        vertical-align: top;\n",
       "    }\n",
       "\n",
       "    .dataframe thead th {\n",
       "        text-align: right;\n",
       "    }\n",
       "</style>\n",
       "<table border=\"1\" class=\"dataframe\">\n",
       "  <thead>\n",
       "    <tr style=\"text-align: right;\">\n",
       "      <th></th>\n",
       "      <th>PassengerId</th>\n",
       "      <th>Transported</th>\n",
       "    </tr>\n",
       "  </thead>\n",
       "  <tbody>\n",
       "    <tr>\n",
       "      <th>0</th>\n",
       "      <td>0013_01</td>\n",
       "      <td>True</td>\n",
       "    </tr>\n",
       "    <tr>\n",
       "      <th>1</th>\n",
       "      <td>0018_01</td>\n",
       "      <td>False</td>\n",
       "    </tr>\n",
       "    <tr>\n",
       "      <th>2</th>\n",
       "      <td>0019_01</td>\n",
       "      <td>True</td>\n",
       "    </tr>\n",
       "    <tr>\n",
       "      <th>3</th>\n",
       "      <td>0021_01</td>\n",
       "      <td>True</td>\n",
       "    </tr>\n",
       "    <tr>\n",
       "      <th>4</th>\n",
       "      <td>0023_01</td>\n",
       "      <td>True</td>\n",
       "    </tr>\n",
       "  </tbody>\n",
       "</table>\n",
       "</div>"
      ],
      "text/plain": [
       "  PassengerId  Transported\n",
       "0     0013_01         True\n",
       "1     0018_01        False\n",
       "2     0019_01         True\n",
       "3     0021_01         True\n",
       "4     0023_01         True"
      ]
     },
     "execution_count": 15,
     "metadata": {},
     "output_type": "execute_result"
    }
   ],
   "source": [
    "submission_df.head()"
   ]
  },
  {
   "cell_type": "code",
   "execution_count": 16,
   "metadata": {},
   "outputs": [],
   "source": [
    "submission_df.to_csv('submission.csv', index=False)"
   ]
  }
 ],
 "metadata": {
  "interpreter": {
   "hash": "8e8e9fb63faf9466e114e2302c4266dde7a3ba5ab9878045504cf5e32dd70d3b"
  },
  "kernelspec": {
   "display_name": "Python 3.8.5 ('base')",
   "language": "python",
   "name": "python3"
  },
  "language_info": {
   "codemirror_mode": {
    "name": "ipython",
    "version": 3
   },
   "file_extension": ".py",
   "mimetype": "text/x-python",
   "name": "python",
   "nbconvert_exporter": "python",
   "pygments_lexer": "ipython3",
   "version": "3.8.5"
  },
  "orig_nbformat": 4
 },
 "nbformat": 4,
 "nbformat_minor": 2
}
