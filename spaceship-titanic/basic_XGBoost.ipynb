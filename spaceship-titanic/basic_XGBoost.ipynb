{
 "cells": [
  {
   "cell_type": "code",
   "execution_count": 1,
   "metadata": {},
   "outputs": [],
   "source": [
    "import os\n",
    "import numpy as np\n",
    "import pandas as pd \n",
    "from pathlib import Path\n",
    "from datetime import datetime\n",
    "\n",
    "\n",
    "from xgboost import XGBClassifier\n",
    "from sklearn.metrics import confusion_matrix, f1_score\n",
    "from sklearn.model_selection import RandomizedSearchCV, StratifiedKFold, train_test_split\n",
    "from sklearn.preprocessing import StandardScaler, MinMaxScaler, LabelEncoder"
   ]
  },
  {
   "cell_type": "markdown",
   "metadata": {},
   "source": [
    "Read the processed data in the previous notebook"
   ]
  },
  {
   "cell_type": "code",
   "execution_count": 5,
   "metadata": {},
   "outputs": [
    {
     "data": {
      "text/html": [
       "<div>\n",
       "<style scoped>\n",
       "    .dataframe tbody tr th:only-of-type {\n",
       "        vertical-align: middle;\n",
       "    }\n",
       "\n",
       "    .dataframe tbody tr th {\n",
       "        vertical-align: top;\n",
       "    }\n",
       "\n",
       "    .dataframe thead th {\n",
       "        text-align: right;\n",
       "    }\n",
       "</style>\n",
       "<table border=\"1\" class=\"dataframe\">\n",
       "  <thead>\n",
       "    <tr style=\"text-align: right;\">\n",
       "      <th></th>\n",
       "      <th>CryoSleep</th>\n",
       "      <th>Age</th>\n",
       "      <th>VIP</th>\n",
       "      <th>RoomService</th>\n",
       "      <th>FoodCourt</th>\n",
       "      <th>ShoppingMall</th>\n",
       "      <th>Spa</th>\n",
       "      <th>VRDeck</th>\n",
       "      <th>Transported</th>\n",
       "      <th>Num</th>\n",
       "      <th>group_id</th>\n",
       "      <th>HomePlanet_Earth</th>\n",
       "      <th>HomePlanet_Europa</th>\n",
       "      <th>HomePlanet_Mars</th>\n",
       "      <th>Destination_55 Cancri e</th>\n",
       "      <th>Destination_PSO J318.5-22</th>\n",
       "      <th>Destination_TRAPPIST-1e</th>\n",
       "      <th>Side_P</th>\n",
       "      <th>Side_S</th>\n",
       "    </tr>\n",
       "  </thead>\n",
       "  <tbody>\n",
       "    <tr>\n",
       "      <th>6099</th>\n",
       "      <td>0</td>\n",
       "      <td>51.0</td>\n",
       "      <td>0</td>\n",
       "      <td>0.0</td>\n",
       "      <td>10.000000</td>\n",
       "      <td>388.0</td>\n",
       "      <td>1380.0</td>\n",
       "      <td>0.000000</td>\n",
       "      <td>False</td>\n",
       "      <td>1046.0</td>\n",
       "      <td>6</td>\n",
       "      <td>1</td>\n",
       "      <td>0</td>\n",
       "      <td>0</td>\n",
       "      <td>0</td>\n",
       "      <td>0</td>\n",
       "      <td>1</td>\n",
       "      <td>0</td>\n",
       "      <td>1</td>\n",
       "    </tr>\n",
       "    <tr>\n",
       "      <th>4806</th>\n",
       "      <td>1</td>\n",
       "      <td>37.0</td>\n",
       "      <td>0</td>\n",
       "      <td>0.0</td>\n",
       "      <td>458.077203</td>\n",
       "      <td>0.0</td>\n",
       "      <td>0.0</td>\n",
       "      <td>0.000000</td>\n",
       "      <td>True</td>\n",
       "      <td>838.0</td>\n",
       "      <td>1</td>\n",
       "      <td>1</td>\n",
       "      <td>0</td>\n",
       "      <td>0</td>\n",
       "      <td>0</td>\n",
       "      <td>0</td>\n",
       "      <td>1</td>\n",
       "      <td>0</td>\n",
       "      <td>1</td>\n",
       "    </tr>\n",
       "    <tr>\n",
       "      <th>8215</th>\n",
       "      <td>0</td>\n",
       "      <td>20.0</td>\n",
       "      <td>0</td>\n",
       "      <td>0.0</td>\n",
       "      <td>91.000000</td>\n",
       "      <td>2.0</td>\n",
       "      <td>623.0</td>\n",
       "      <td>93.000000</td>\n",
       "      <td>False</td>\n",
       "      <td>1415.0</td>\n",
       "      <td>1</td>\n",
       "      <td>1</td>\n",
       "      <td>0</td>\n",
       "      <td>0</td>\n",
       "      <td>0</td>\n",
       "      <td>0</td>\n",
       "      <td>1</td>\n",
       "      <td>0</td>\n",
       "      <td>1</td>\n",
       "    </tr>\n",
       "    <tr>\n",
       "      <th>2467</th>\n",
       "      <td>1</td>\n",
       "      <td>26.0</td>\n",
       "      <td>0</td>\n",
       "      <td>0.0</td>\n",
       "      <td>0.000000</td>\n",
       "      <td>0.0</td>\n",
       "      <td>0.0</td>\n",
       "      <td>0.000000</td>\n",
       "      <td>True</td>\n",
       "      <td>95.0</td>\n",
       "      <td>5</td>\n",
       "      <td>0</td>\n",
       "      <td>1</td>\n",
       "      <td>0</td>\n",
       "      <td>1</td>\n",
       "      <td>0</td>\n",
       "      <td>0</td>\n",
       "      <td>0</td>\n",
       "      <td>1</td>\n",
       "    </tr>\n",
       "    <tr>\n",
       "      <th>5405</th>\n",
       "      <td>0</td>\n",
       "      <td>47.0</td>\n",
       "      <td>0</td>\n",
       "      <td>0.0</td>\n",
       "      <td>868.000000</td>\n",
       "      <td>0.0</td>\n",
       "      <td>4.0</td>\n",
       "      <td>304.854791</td>\n",
       "      <td>True</td>\n",
       "      <td>937.0</td>\n",
       "      <td>1</td>\n",
       "      <td>1</td>\n",
       "      <td>0</td>\n",
       "      <td>0</td>\n",
       "      <td>0</td>\n",
       "      <td>0</td>\n",
       "      <td>1</td>\n",
       "      <td>0</td>\n",
       "      <td>1</td>\n",
       "    </tr>\n",
       "  </tbody>\n",
       "</table>\n",
       "</div>"
      ],
      "text/plain": [
       "      CryoSleep   Age  VIP  RoomService   FoodCourt  ShoppingMall     Spa  \\\n",
       "6099          0  51.0    0          0.0   10.000000         388.0  1380.0   \n",
       "4806          1  37.0    0          0.0  458.077203           0.0     0.0   \n",
       "8215          0  20.0    0          0.0   91.000000           2.0   623.0   \n",
       "2467          1  26.0    0          0.0    0.000000           0.0     0.0   \n",
       "5405          0  47.0    0          0.0  868.000000           0.0     4.0   \n",
       "\n",
       "          VRDeck  Transported     Num  group_id  HomePlanet_Earth  \\\n",
       "6099    0.000000        False  1046.0         6                 1   \n",
       "4806    0.000000         True   838.0         1                 1   \n",
       "8215   93.000000        False  1415.0         1                 1   \n",
       "2467    0.000000         True    95.0         5                 0   \n",
       "5405  304.854791         True   937.0         1                 1   \n",
       "\n",
       "      HomePlanet_Europa  HomePlanet_Mars  Destination_55 Cancri e  \\\n",
       "6099                  0                0                        0   \n",
       "4806                  0                0                        0   \n",
       "8215                  0                0                        0   \n",
       "2467                  1                0                        1   \n",
       "5405                  0                0                        0   \n",
       "\n",
       "      Destination_PSO J318.5-22  Destination_TRAPPIST-1e  Side_P  Side_S  \n",
       "6099                          0                        1       0       1  \n",
       "4806                          0                        1       0       1  \n",
       "8215                          0                        1       0       1  \n",
       "2467                          0                        0       0       1  \n",
       "5405                          0                        1       0       1  "
      ]
     },
     "execution_count": 5,
     "metadata": {},
     "output_type": "execute_result"
    }
   ],
   "source": [
    "train_df = pd.read_csv('processed data\\processed_train.csv')\n",
    "test_df = pd.read_csv('processed data\\processed_test.csv')\n",
    "TARGET = 'Transported'\n",
    "\n",
    "train_df.sample(5)"
   ]
  },
  {
   "cell_type": "code",
   "execution_count": 7,
   "metadata": {},
   "outputs": [
    {
     "data": {
      "text/plain": [
       "0       False\n",
       "1        True\n",
       "2       False\n",
       "3       False\n",
       "4        True\n",
       "        ...  \n",
       "8688    False\n",
       "8689    False\n",
       "8690     True\n",
       "8691    False\n",
       "8692     True\n",
       "Name: Transported, Length: 8693, dtype: bool"
      ]
     },
     "execution_count": 7,
     "metadata": {},
     "output_type": "execute_result"
    }
   ],
   "source": [
    "X = train_df.drop(TARGET, axis=1)\n",
    "y = train_df[TARGET]\n",
    "y"
   ]
  },
  {
   "cell_type": "code",
   "execution_count": 9,
   "metadata": {},
   "outputs": [
    {
     "data": {
      "text/plain": [
       "(6954, 18)"
      ]
     },
     "execution_count": 9,
     "metadata": {},
     "output_type": "execute_result"
    }
   ],
   "source": [
    "X_train, X_valid, y_train, y_valid = train_test_split(X, y, test_size = 0.2, random_state = 42)\n",
    "X_train.shape"
   ]
  },
  {
   "cell_type": "markdown",
   "metadata": {},
   "source": [
    "Now we train the base model with default parameter."
   ]
  },
  {
   "cell_type": "code",
   "execution_count": 10,
   "metadata": {},
   "outputs": [
    {
     "name": "stdout",
     "output_type": "stream",
     "text": [
      "Performance on train data: 0.9263733103249928\n"
     ]
    },
    {
     "name": "stderr",
     "output_type": "stream",
     "text": [
      "c:\\Users\\Gingi\\anaconda3\\lib\\site-packages\\xgboost\\sklearn.py:793: UserWarning: `eval_metric` in `fit` method is deprecated for better compatibility with scikit-learn, use `eval_metric` in constructor or`set_params` instead.\n",
      "  warnings.warn(\n"
     ]
    }
   ],
   "source": [
    "xgb_model = XGBClassifier()\n",
    "model = xgb_model.fit(X_train, y_train, eval_metric='logloss')\n",
    "\n",
    "print(\"Performance on train data:\", model.score(X_train, y_train))"
   ]
  },
  {
   "cell_type": "code",
   "execution_count": 16,
   "metadata": {},
   "outputs": [
    {
     "name": "stdout",
     "output_type": "stream",
     "text": [
      "Performance on validation data: 0.7906843013225993\n"
     ]
    }
   ],
   "source": [
    "yp = model.predict_proba(X_valid)\n",
    "yp2 = (yp[:,1] > 0.5) \n",
    "print(\"Performance on validation data:\", f1_score(y_valid, yp2, average='micro'))"
   ]
  },
  {
   "cell_type": "code",
   "execution_count": 17,
   "metadata": {},
   "outputs": [
    {
     "name": "stdout",
     "output_type": "stream",
     "text": [
      "Performance on validation data: 0.7906843013225993\n"
     ]
    }
   ],
   "source": [
    "y_pred_v = model.predict(X_valid)\n",
    "print(\"Performance on validation data:\", f1_score(y_valid, y_pred_v, average='micro'))"
   ]
  },
  {
   "cell_type": "markdown",
   "metadata": {},
   "source": [
    "This is the baseline, then we can strat fine tune the parameter"
   ]
  },
  {
   "cell_type": "code",
   "execution_count": 21,
   "metadata": {},
   "outputs": [
    {
     "name": "stdout",
     "output_type": "stream",
     "text": [
      "Fitting 5 folds for each of 50 candidates, totalling 250 fits\n"
     ]
    },
    {
     "name": "stderr",
     "output_type": "stream",
     "text": [
      "[Parallel(n_jobs=4)]: Using backend LokyBackend with 4 concurrent workers.\n",
      "[Parallel(n_jobs=4)]: Done  33 tasks      | elapsed:   16.8s\n",
      "[Parallel(n_jobs=4)]: Done 154 tasks      | elapsed:  1.4min\n",
      "[Parallel(n_jobs=4)]: Done 250 out of 250 | elapsed:  2.2min finished\n"
     ]
    },
    {
     "name": "stdout",
     "output_type": "stream",
     "text": [
      "[16:18:59] WARNING: C:/Users/Administrator/workspace/xgboost-win64_release_1.6.0/src/learner.cc:627: \n",
      "Parameters: { \"silent\" } might not be used.\n",
      "\n",
      "  This could be a false alarm, with some parameters getting used by language bindings but\n",
      "  then being mistakenly passed down to XGBoost core, or some parameter actually being used\n",
      "  but getting flagged wrongly here. Please open an issue if you find any such cases.\n",
      "\n",
      "\n",
      "\n",
      " Time taken: 0 hours 2 minutes and 15.16 seconds.\n",
      "\n",
      " All results:\n",
      "{'mean_fit_time': array([1.81238456, 1.44772658, 1.9742671 , 1.55488944, 1.91986427,\n",
      "       1.85124722, 1.42638388, 1.75969248, 2.60243769, 2.71114798,\n",
      "       2.19891748, 2.30383134, 2.50509877, 2.78554845, 2.33275919,\n",
      "       2.32079167, 2.30024185, 1.95776186, 1.94679193, 1.80217857,\n",
      "       1.39865866, 3.11426969, 2.14944878, 2.10117831, 2.74146633,\n",
      "       1.6360292 , 1.51314659, 2.31899657, 2.16680326, 1.90031624,\n",
      "       2.29785233, 1.79838862, 1.56301861, 1.79100757, 1.68868203,\n",
      "       2.16580653, 1.18003707, 2.70715165, 1.40783381, 2.13209567,\n",
      "       2.23462167, 2.76999002, 1.40424314, 1.50557761, 1.867205  ,\n",
      "       2.50769181, 2.11275377, 2.16601038, 1.87039666, 2.36947231]), 'std_fit_time': array([0.01935876, 0.00877648, 0.01974648, 0.01291511, 0.00810238,\n",
      "       0.01868414, 0.00897373, 0.05977501, 0.02487011, 0.02441832,\n",
      "       0.04009927, 0.0086888 , 0.00632003, 0.01399148, 0.00909688,\n",
      "       0.00754334, 0.00794867, 0.00472019, 0.00383632, 0.00624411,\n",
      "       0.00709713, 0.03327342, 0.00586149, 0.01311625, 0.04634493,\n",
      "       0.00966262, 0.00380568, 0.01085996, 0.00365654, 0.00888928,\n",
      "       0.0065257 , 0.00635179, 0.00582975, 0.0145267 , 0.00711924,\n",
      "       0.01536811, 0.03150632, 0.01540969, 0.02077294, 0.00410755,\n",
      "       0.01974223, 0.01563777, 0.00679402, 0.00843149, 0.00791326,\n",
      "       0.02355539, 0.00660461, 0.04597644, 0.00681098, 0.00895384]), 'mean_score_time': array([0.01535912, 0.01136975, 0.01156974, 0.01176896, 0.01456103,\n",
      "       0.01715422, 0.01097078, 0.01156945, 0.0139627 , 0.01795173,\n",
      "       0.01276598, 0.01835599, 0.01356339, 0.01356382, 0.01655574,\n",
      "       0.01416225, 0.01416206, 0.01077151, 0.01336417, 0.01097116,\n",
      "       0.01117511, 0.01695447, 0.01356397, 0.01396265, 0.0167551 ,\n",
      "       0.01076479, 0.01097083, 0.01635661, 0.01396275, 0.01396737,\n",
      "       0.01695471, 0.01476111, 0.01156888, 0.01476068, 0.01156931,\n",
      "       0.01077147, 0.01077156, 0.01416216, 0.01057777, 0.01057162,\n",
      "       0.01436224, 0.01675544, 0.01057172, 0.0111649 , 0.01716161,\n",
      "       0.01376343, 0.01734786, 0.01236238, 0.01336432, 0.01714287]), 'std_score_time': array([4.88460925e-04, 4.88772518e-04, 4.88617039e-04, 7.46773555e-04,\n",
      "       7.98034796e-04, 3.98993531e-04, 2.33601546e-07, 1.35277530e-03,\n",
      "       1.78416128e-07, 1.09266698e-03, 7.46506117e-04, 4.94996673e-04,\n",
      "       4.88617737e-04, 4.88869664e-04, 4.88675027e-04, 3.99255881e-04,\n",
      "       3.99113015e-04, 3.98993930e-04, 4.88441542e-04, 5.76164530e-07,\n",
      "       3.96729530e-04, 2.78041453e-07, 4.88792014e-04, 1.90734863e-07,\n",
      "       3.99232121e-04, 3.96298080e-04, 5.43678010e-07, 4.88402973e-04,\n",
      "       1.50789149e-07, 6.31269487e-04, 6.46813391e-07, 3.99184266e-04,\n",
      "       4.89083870e-04, 7.46403919e-04, 4.88850315e-04, 3.99089497e-04,\n",
      "       3.99017533e-04, 3.98945876e-04, 4.81678386e-04, 4.88538730e-04,\n",
      "       4.88889202e-04, 7.46442136e-04, 4.88714007e-04, 4.02120001e-04,\n",
      "       3.95779064e-04, 3.98635978e-04, 4.93550378e-04, 4.82906567e-04,\n",
      "       4.88324671e-04, 4.04996261e-04]), 'param_subsample': masked_array(data=[0.8, 1.0, 0.8, 0.6, 0.6, 1.0, 1.0, 1.0, 0.8, 0.8, 1.0,\n",
      "                   0.6, 0.8, 0.6, 1.0, 0.6, 0.6, 0.8, 0.6, 0.6, 0.8, 0.8,\n",
      "                   0.8, 0.8, 1.0, 1.0, 0.6, 1.0, 0.8, 0.6, 0.6, 0.8, 0.6,\n",
      "                   0.8, 0.8, 0.6, 1.0, 0.6, 0.8, 0.6, 1.0, 1.0, 1.0, 0.6,\n",
      "                   1.0, 0.8, 0.8, 1.0, 1.0, 0.6],\n",
      "             mask=[False, False, False, False, False, False, False, False,\n",
      "                   False, False, False, False, False, False, False, False,\n",
      "                   False, False, False, False, False, False, False, False,\n",
      "                   False, False, False, False, False, False, False, False,\n",
      "                   False, False, False, False, False, False, False, False,\n",
      "                   False, False, False, False, False, False, False, False,\n",
      "                   False, False],\n",
      "       fill_value='?',\n",
      "            dtype=object), 'param_min_child_weight': masked_array(data=[10, 1, 10, 10, 10, 5, 1, 10, 5, 5, 5, 10, 5, 1, 1, 5,\n",
      "                   10, 1, 1, 10, 1, 5, 1, 10, 5, 10, 5, 1, 1, 10, 10, 5,\n",
      "                   1, 10, 10, 1, 1, 10, 1, 1, 5, 1, 5, 10, 1, 5, 10, 10,\n",
      "                   1, 1],\n",
      "             mask=[False, False, False, False, False, False, False, False,\n",
      "                   False, False, False, False, False, False, False, False,\n",
      "                   False, False, False, False, False, False, False, False,\n",
      "                   False, False, False, False, False, False, False, False,\n",
      "                   False, False, False, False, False, False, False, False,\n",
      "                   False, False, False, False, False, False, False, False,\n",
      "                   False, False],\n",
      "       fill_value='?',\n",
      "            dtype=object), 'param_max_depth': masked_array(data=[4, 3, 3, 3, 4, 5, 3, 3, 4, 5, 4, 5, 4, 4, 5, 4, 4, 3,\n",
      "                   4, 3, 3, 5, 4, 4, 5, 3, 3, 5, 4, 4, 5, 4, 3, 4, 3, 3,\n",
      "                   3, 4, 3, 3, 5, 5, 3, 3, 5, 4, 5, 4, 4, 5],\n",
      "             mask=[False, False, False, False, False, False, False, False,\n",
      "                   False, False, False, False, False, False, False, False,\n",
      "                   False, False, False, False, False, False, False, False,\n",
      "                   False, False, False, False, False, False, False, False,\n",
      "                   False, False, False, False, False, False, False, False,\n",
      "                   False, False, False, False, False, False, False, False,\n",
      "                   False, False],\n",
      "       fill_value='?',\n",
      "            dtype=object), 'param_gamma': masked_array(data=[1.5, 2, 5, 1, 1, 1.5, 0.5, 1.5, 2, 5, 2, 1.5, 0.5, 5,\n",
      "                   0.5, 5, 1, 2, 0.5, 1.5, 1.5, 5, 5, 2, 1, 1, 2, 1.5, 1,\n",
      "                   0.5, 5, 2, 0.5, 5, 5, 2, 1.5, 1, 2, 1.5, 5, 1, 0.5, 5,\n",
      "                   2, 1.5, 0.5, 2, 1, 5],\n",
      "             mask=[False, False, False, False, False, False, False, False,\n",
      "                   False, False, False, False, False, False, False, False,\n",
      "                   False, False, False, False, False, False, False, False,\n",
      "                   False, False, False, False, False, False, False, False,\n",
      "                   False, False, False, False, False, False, False, False,\n",
      "                   False, False, False, False, False, False, False, False,\n",
      "                   False, False],\n",
      "       fill_value='?',\n",
      "            dtype=object), 'param_colsample_bytree': masked_array(data=[0.6, 0.8, 1.0, 0.6, 0.6, 0.6, 0.8, 1.0, 1.0, 0.8, 1.0,\n",
      "                   0.6, 1.0, 1.0, 0.8, 0.8, 0.8, 1.0, 0.6, 0.8, 0.6, 1.0,\n",
      "                   0.8, 0.8, 1.0, 1.0, 0.6, 0.8, 0.8, 0.6, 0.6, 0.6, 0.6,\n",
      "                   0.6, 0.8, 1.0, 0.6, 1.0, 0.6, 1.0, 0.8, 1.0, 0.8, 0.6,\n",
      "                   0.6, 1.0, 0.6, 1.0, 0.8, 0.6],\n",
      "             mask=[False, False, False, False, False, False, False, False,\n",
      "                   False, False, False, False, False, False, False, False,\n",
      "                   False, False, False, False, False, False, False, False,\n",
      "                   False, False, False, False, False, False, False, False,\n",
      "                   False, False, False, False, False, False, False, False,\n",
      "                   False, False, False, False, False, False, False, False,\n",
      "                   False, False],\n",
      "       fill_value='?',\n",
      "            dtype=object), 'params': [{'subsample': 0.8, 'min_child_weight': 10, 'max_depth': 4, 'gamma': 1.5, 'colsample_bytree': 0.6}, {'subsample': 1.0, 'min_child_weight': 1, 'max_depth': 3, 'gamma': 2, 'colsample_bytree': 0.8}, {'subsample': 0.8, 'min_child_weight': 10, 'max_depth': 3, 'gamma': 5, 'colsample_bytree': 1.0}, {'subsample': 0.6, 'min_child_weight': 10, 'max_depth': 3, 'gamma': 1, 'colsample_bytree': 0.6}, {'subsample': 0.6, 'min_child_weight': 10, 'max_depth': 4, 'gamma': 1, 'colsample_bytree': 0.6}, {'subsample': 1.0, 'min_child_weight': 5, 'max_depth': 5, 'gamma': 1.5, 'colsample_bytree': 0.6}, {'subsample': 1.0, 'min_child_weight': 1, 'max_depth': 3, 'gamma': 0.5, 'colsample_bytree': 0.8}, {'subsample': 1.0, 'min_child_weight': 10, 'max_depth': 3, 'gamma': 1.5, 'colsample_bytree': 1.0}, {'subsample': 0.8, 'min_child_weight': 5, 'max_depth': 4, 'gamma': 2, 'colsample_bytree': 1.0}, {'subsample': 0.8, 'min_child_weight': 5, 'max_depth': 5, 'gamma': 5, 'colsample_bytree': 0.8}, {'subsample': 1.0, 'min_child_weight': 5, 'max_depth': 4, 'gamma': 2, 'colsample_bytree': 1.0}, {'subsample': 0.6, 'min_child_weight': 10, 'max_depth': 5, 'gamma': 1.5, 'colsample_bytree': 0.6}, {'subsample': 0.8, 'min_child_weight': 5, 'max_depth': 4, 'gamma': 0.5, 'colsample_bytree': 1.0}, {'subsample': 0.6, 'min_child_weight': 1, 'max_depth': 4, 'gamma': 5, 'colsample_bytree': 1.0}, {'subsample': 1.0, 'min_child_weight': 1, 'max_depth': 5, 'gamma': 0.5, 'colsample_bytree': 0.8}, {'subsample': 0.6, 'min_child_weight': 5, 'max_depth': 4, 'gamma': 5, 'colsample_bytree': 0.8}, {'subsample': 0.6, 'min_child_weight': 10, 'max_depth': 4, 'gamma': 1, 'colsample_bytree': 0.8}, {'subsample': 0.8, 'min_child_weight': 1, 'max_depth': 3, 'gamma': 2, 'colsample_bytree': 1.0}, {'subsample': 0.6, 'min_child_weight': 1, 'max_depth': 4, 'gamma': 0.5, 'colsample_bytree': 0.6}, {'subsample': 0.6, 'min_child_weight': 10, 'max_depth': 3, 'gamma': 1.5, 'colsample_bytree': 0.8}, {'subsample': 0.8, 'min_child_weight': 1, 'max_depth': 3, 'gamma': 1.5, 'colsample_bytree': 0.6}, {'subsample': 0.8, 'min_child_weight': 5, 'max_depth': 5, 'gamma': 5, 'colsample_bytree': 1.0}, {'subsample': 0.8, 'min_child_weight': 1, 'max_depth': 4, 'gamma': 5, 'colsample_bytree': 0.8}, {'subsample': 0.8, 'min_child_weight': 10, 'max_depth': 4, 'gamma': 2, 'colsample_bytree': 0.8}, {'subsample': 1.0, 'min_child_weight': 5, 'max_depth': 5, 'gamma': 1, 'colsample_bytree': 1.0}, {'subsample': 1.0, 'min_child_weight': 10, 'max_depth': 3, 'gamma': 1, 'colsample_bytree': 1.0}, {'subsample': 0.6, 'min_child_weight': 5, 'max_depth': 3, 'gamma': 2, 'colsample_bytree': 0.6}, {'subsample': 1.0, 'min_child_weight': 1, 'max_depth': 5, 'gamma': 1.5, 'colsample_bytree': 0.8}, {'subsample': 0.8, 'min_child_weight': 1, 'max_depth': 4, 'gamma': 1, 'colsample_bytree': 0.8}, {'subsample': 0.6, 'min_child_weight': 10, 'max_depth': 4, 'gamma': 0.5, 'colsample_bytree': 0.6}, {'subsample': 0.6, 'min_child_weight': 10, 'max_depth': 5, 'gamma': 5, 'colsample_bytree': 0.6}, {'subsample': 0.8, 'min_child_weight': 5, 'max_depth': 4, 'gamma': 2, 'colsample_bytree': 0.6}, {'subsample': 0.6, 'min_child_weight': 1, 'max_depth': 3, 'gamma': 0.5, 'colsample_bytree': 0.6}, {'subsample': 0.8, 'min_child_weight': 10, 'max_depth': 4, 'gamma': 5, 'colsample_bytree': 0.6}, {'subsample': 0.8, 'min_child_weight': 10, 'max_depth': 3, 'gamma': 5, 'colsample_bytree': 0.8}, {'subsample': 0.6, 'min_child_weight': 1, 'max_depth': 3, 'gamma': 2, 'colsample_bytree': 1.0}, {'subsample': 1.0, 'min_child_weight': 1, 'max_depth': 3, 'gamma': 1.5, 'colsample_bytree': 0.6}, {'subsample': 0.6, 'min_child_weight': 10, 'max_depth': 4, 'gamma': 1, 'colsample_bytree': 1.0}, {'subsample': 0.8, 'min_child_weight': 1, 'max_depth': 3, 'gamma': 2, 'colsample_bytree': 0.6}, {'subsample': 0.6, 'min_child_weight': 1, 'max_depth': 3, 'gamma': 1.5, 'colsample_bytree': 1.0}, {'subsample': 1.0, 'min_child_weight': 5, 'max_depth': 5, 'gamma': 5, 'colsample_bytree': 0.8}, {'subsample': 1.0, 'min_child_weight': 1, 'max_depth': 5, 'gamma': 1, 'colsample_bytree': 1.0}, {'subsample': 1.0, 'min_child_weight': 5, 'max_depth': 3, 'gamma': 0.5, 'colsample_bytree': 0.8}, {'subsample': 0.6, 'min_child_weight': 10, 'max_depth': 3, 'gamma': 5, 'colsample_bytree': 0.6}, {'subsample': 1.0, 'min_child_weight': 1, 'max_depth': 5, 'gamma': 2, 'colsample_bytree': 0.6}, {'subsample': 0.8, 'min_child_weight': 5, 'max_depth': 4, 'gamma': 1.5, 'colsample_bytree': 1.0}, {'subsample': 0.8, 'min_child_weight': 10, 'max_depth': 5, 'gamma': 0.5, 'colsample_bytree': 0.6}, {'subsample': 1.0, 'min_child_weight': 10, 'max_depth': 4, 'gamma': 2, 'colsample_bytree': 1.0}, {'subsample': 1.0, 'min_child_weight': 1, 'max_depth': 4, 'gamma': 1, 'colsample_bytree': 0.8}, {'subsample': 0.6, 'min_child_weight': 1, 'max_depth': 5, 'gamma': 5, 'colsample_bytree': 0.6}], 'split0_test_score': array([0.9002418 , 0.89887207, 0.89936745, 0.89859694, 0.89893623,\n",
      "       0.90160757, 0.89856783, 0.89861942, 0.90116047, 0.90127819,\n",
      "       0.90075636, 0.89887009, 0.90118163, 0.90123124, 0.90120544,\n",
      "       0.90032315, 0.89977486, 0.90068096, 0.90082713, 0.89959761,\n",
      "       0.89908041, 0.90126034, 0.90124513, 0.90020939, 0.900802  ,\n",
      "       0.89837008, 0.89886281, 0.9009065 , 0.9009938 , 0.89892035,\n",
      "       0.89982381, 0.90042898, 0.89968558, 0.89943954, 0.89848582,\n",
      "       0.90097991, 0.89788462, 0.89920872, 0.89920938, 0.90115584,\n",
      "       0.90043294, 0.90006323, 0.89872591, 0.89787007, 0.90065914,\n",
      "       0.90130068, 0.90114393, 0.8996988 , 0.90078282, 0.90083176]), 'split1_test_score': array([0.88293928, 0.87900139, 0.87913962, 0.88004042, 0.88271507,\n",
      "       0.88282552, 0.87855826, 0.87842532, 0.88434671, 0.88421046,\n",
      "       0.88340159, 0.88334206, 0.8841139 , 0.88415954, 0.88499222,\n",
      "       0.88338572, 0.8837799 , 0.87992733, 0.88292407, 0.88044321,\n",
      "       0.87938433, 0.88498362, 0.88234535, 0.88297764, 0.88435531,\n",
      "       0.87897229, 0.88002323, 0.88471841, 0.88369326, 0.8828619 ,\n",
      "       0.8829492 , 0.88247366, 0.88035921, 0.88148026, 0.87895906,\n",
      "       0.88132616, 0.87840217, 0.88451933, 0.87929967, 0.88104705,\n",
      "       0.88223556, 0.8843606 , 0.87895244, 0.87875866, 0.88257023,\n",
      "       0.88402924, 0.88380107, 0.88291216, 0.88327328, 0.88357024]), 'split2_test_score': array([0.88952999, 0.89032101, 0.88730178, 0.88771052, 0.88807097,\n",
      "       0.89139576, 0.89039972, 0.88912919, 0.89018344, 0.89057234,\n",
      "       0.8899427 , 0.88960936, 0.89045461, 0.8906312 , 0.89036863,\n",
      "       0.88959547, 0.8888739 , 0.88868342, 0.89085806, 0.88751541,\n",
      "       0.88877403, 0.89073504, 0.89062194, 0.88927073, 0.88921583,\n",
      "       0.88914044, 0.88844334, 0.89033755, 0.89106044, 0.8881768 ,\n",
      "       0.88978926, 0.89052736, 0.8885141 , 0.88841357, 0.88802203,\n",
      "       0.88894268, 0.88774094, 0.88917814, 0.88847574, 0.88889903,\n",
      "       0.88929388, 0.88915895, 0.88916888, 0.88738115, 0.89167288,\n",
      "       0.89034217, 0.89028265, 0.890155  , 0.89043675, 0.89161468]), 'split3_test_score': array([0.89571925, 0.89635491, 0.89398775, 0.89342758, 0.89599801,\n",
      "       0.89814203, 0.89653236, 0.89584506, 0.89803609, 0.89783811,\n",
      "       0.89856315, 0.89757788, 0.89840821, 0.89835127, 0.89702566,\n",
      "       0.89778182, 0.89718192, 0.89529416, 0.89720444, 0.89440358,\n",
      "       0.89420824, 0.89859229, 0.89651051, 0.89690382, 0.89687535,\n",
      "       0.89582652, 0.89473928, 0.89708062, 0.89797252, 0.89569475,\n",
      "       0.89621122, 0.89681973, 0.89514451, 0.89436385, 0.89371296,\n",
      "       0.89616355, 0.89433206, 0.89754478, 0.89419699, 0.89595497,\n",
      "       0.89621983, 0.89770303, 0.89573713, 0.89231187, 0.89699056,\n",
      "       0.89829962, 0.89724152, 0.89665883, 0.89816123, 0.89856977]), 'split4_test_score': array([0.89937957, 0.89957226, 0.89822546, 0.89836186, 0.90020195,\n",
      "       0.90014766, 0.89954842, 0.8981023 , 0.90091442, 0.90107267,\n",
      "       0.89989737, 0.89949214, 0.90069922, 0.90085416, 0.90083761,\n",
      "       0.90107399, 0.90020725, 0.89935574, 0.89984175, 0.8983261 ,\n",
      "       0.89997749, 0.90097467, 0.9008151 , 0.90041119, 0.89961   ,\n",
      "       0.89809171, 0.89931866, 0.8998775 , 0.90087734, 0.90022844,\n",
      "       0.90012779, 0.90034762, 0.89927959, 0.89945837, 0.89814335,\n",
      "       0.8997656 , 0.89768052, 0.90031054, 0.90000993, 0.89960801,\n",
      "       0.90023374, 0.90107598, 0.89885052, 0.8977752 , 0.90067472,\n",
      "       0.90078   , 0.89978878, 0.90022645, 0.90116405, 0.90093428]), 'mean_test_score': array([0.89356198, 0.89282433, 0.89160441, 0.89162746, 0.89318445,\n",
      "       0.89482371, 0.89272132, 0.89202426, 0.89492822, 0.89499435,\n",
      "       0.89451223, 0.89377831, 0.89497152, 0.89504548, 0.89488591,\n",
      "       0.89443203, 0.89396357, 0.89278832, 0.89433109, 0.89205718,\n",
      "       0.8922849 , 0.89530919, 0.89430761, 0.89395456, 0.8941717 ,\n",
      "       0.89208021, 0.89227746, 0.89458411, 0.89491947, 0.89317645,\n",
      "       0.89378026, 0.89411947, 0.8925966 , 0.89263112, 0.89146465,\n",
      "       0.89343558, 0.89120806, 0.8941523 , 0.89223834, 0.89333298,\n",
      "       0.89368319, 0.89447236, 0.89228698, 0.89081939, 0.89451351,\n",
      "       0.89495034, 0.89445159, 0.89393025, 0.89476363, 0.89510415]), 'std_test_score': array([0.00651486, 0.00764088, 0.00753216, 0.00702521, 0.00672309,\n",
      "       0.00694383, 0.0077627 , 0.00759407, 0.00661537, 0.00663877,\n",
      "       0.00676352, 0.00631358, 0.00665542, 0.00664714, 0.00629649,\n",
      "       0.0068623 , 0.00652264, 0.00766759, 0.00667838, 0.00717182,\n",
      "       0.0075869 , 0.00641612, 0.00709942, 0.00681088, 0.00635245,\n",
      "       0.00735113, 0.00726461, 0.00615777, 0.00667285, 0.00664005,\n",
      "       0.00657214, 0.00684718, 0.00731886, 0.00690069, 0.00731024,\n",
      "       0.00736549, 0.00737889, 0.00620543, 0.00767327, 0.00745724,\n",
      "       0.00700311, 0.00656937, 0.00753626, 0.00717782, 0.00682021,\n",
      "       0.00672362, 0.00650954, 0.00657289, 0.00692083, 0.00669349]), 'rank_test_score': array([29, 34, 47, 46, 32, 10, 36, 45,  7,  4, 14, 27,  5,  3,  9, 17, 23,\n",
      "       35, 18, 44, 40,  1, 19, 24, 20, 43, 41, 12,  8, 33, 26, 22, 38, 37,\n",
      "       48, 30, 49, 21, 42, 31, 28, 15, 39, 50, 13,  6, 16, 25, 11,  2])}\n",
      "\n",
      " Best estimator:\n",
      "XGBClassifier(base_score=0.5, booster='gbtree', callbacks=None,\n",
      "              colsample_bylevel=1, colsample_bynode=1, colsample_bytree=1.0,\n",
      "              early_stopping_rounds=None, enable_categorical=False,\n",
      "              eval_metric=None, gamma=5, gpu_id=-1, grow_policy='depthwise',\n",
      "              importance_type=None, interaction_constraints='',\n",
      "              learning_rate=0.02, max_bin=256, max_cat_to_onehot=4,\n",
      "              max_delta_step=0, max_depth=5, max_leaves=0, min_child_weight=5,\n",
      "              missing=nan, monotone_constraints='()', n_estimators=600,\n",
      "              n_jobs=1, nthread=1, num_parallel_tree=1, predictor='auto',\n",
      "              random_state=0, reg_alpha=0, ...)\n",
      "\n",
      " Best normalized gini score for 5-fold search with 50 parameter combinations:\n",
      "0.7906183835117564\n",
      "\n",
      " Best hyperparameters:\n",
      "{'subsample': 0.8, 'min_child_weight': 5, 'max_depth': 5, 'gamma': 5, 'colsample_bytree': 1.0}\n",
      "\n",
      " Best estimator:\n",
      "XGBClassifier(base_score=0.5, booster='gbtree', callbacks=None,\n",
      "              colsample_bylevel=1, colsample_bynode=1, colsample_bytree=1.0,\n",
      "              early_stopping_rounds=None, enable_categorical=False,\n",
      "              eval_metric=None, gamma=5, gpu_id=-1, grow_policy='depthwise',\n",
      "              importance_type=None, interaction_constraints='',\n",
      "              learning_rate=0.02, max_bin=256, max_cat_to_onehot=4,\n",
      "              max_delta_step=0, max_depth=5, max_leaves=0, min_child_weight=5,\n",
      "              missing=nan, monotone_constraints='()', n_estimators=600,\n",
      "              n_jobs=1, nthread=1, num_parallel_tree=1, predictor='auto',\n",
      "              random_state=0, reg_alpha=0, ...)\n"
     ]
    }
   ],
   "source": [
    "# A parameter grid for XGBoost\n",
    "params = {\n",
    "        'min_child_weight': [1, 5, 10],\n",
    "        'gamma': [0.5, 1, 1.5, 2, 5],\n",
    "        'subsample': [0.6, 0.8, 1.0],\n",
    "        'colsample_bytree': [0.6, 0.8, 1.0],\n",
    "        'max_depth': [3, 4, 5]\n",
    "        }\n",
    "\n",
    "xgb = XGBClassifier(learning_rate=0.02, n_estimators=600, objective='binary:logistic', silent=True, nthread=1)\n",
    "\n",
    "def timer(start_time=None):\n",
    "    if not start_time:\n",
    "        start_time = datetime.now()\n",
    "        return start_time\n",
    "    elif start_time:\n",
    "        thour, temp_sec = divmod((datetime.now() - start_time).total_seconds(), 3600)\n",
    "        tmin, tsec = divmod(temp_sec, 60)\n",
    "        print('\\n Time taken: %i hours %i minutes and %s seconds.' % (thour, tmin, round(tsec, 2)))\n",
    "        \n",
    "folds = 5\n",
    "param_comb = 50\n",
    "\n",
    "skf = StratifiedKFold(n_splits=folds, shuffle = True, random_state = 1001)\n",
    "\n",
    "random_search = RandomizedSearchCV(xgb, param_distributions=params, n_iter=param_comb, scoring='roc_auc', n_jobs=4, cv=skf.split(X,y), verbose=2, random_state=42 )\n",
    "\n",
    "# Here we go\n",
    "start_time = timer(None) # timing starts from this point for \"start_time\" variable\n",
    "random_search.fit(X, y)\n",
    "timer(start_time) # timing ends here for \"start_time\" variable\n",
    "\n",
    "print('\\n All results:')\n",
    "print(random_search.cv_results_)\n",
    "print('\\n Best estimator:')\n",
    "print(random_search.best_estimator_)\n",
    "print('\\n Best normalized gini score for %d-fold search with %d parameter combinations:' % (folds, param_comb))\n",
    "print(random_search.best_score_ * 2 - 1)\n",
    "print('\\n Best hyperparameters:')\n",
    "print(random_search.best_params_)\n",
    "results = pd.DataFrame(random_search.cv_results_)\n",
    "results.to_csv('xgb-random-grid-search-results-01.csv', index=False)"
   ]
  },
  {
   "cell_type": "code",
   "execution_count": 24,
   "metadata": {},
   "outputs": [
    {
     "name": "stderr",
     "output_type": "stream",
     "text": [
      "c:\\Users\\Gingi\\anaconda3\\lib\\site-packages\\xgboost\\sklearn.py:793: UserWarning: `eval_metric` in `fit` method is deprecated for better compatibility with scikit-learn, use `eval_metric` in constructor or`set_params` instead.\n",
      "  warnings.warn(\n"
     ]
    },
    {
     "name": "stdout",
     "output_type": "stream",
     "text": [
      "Performance on train data: 0.8212539545585275\n"
     ]
    }
   ],
   "source": [
    "optimized_xgb = XGBClassifier(base_score=0.5, booster='gbtree', callbacks=None,\n",
    "              colsample_bylevel=1, colsample_bynode=1, colsample_bytree=1.0,\n",
    "              early_stopping_rounds=None, enable_categorical=False,\n",
    "              eval_metric=None, gamma=5, gpu_id=-1, grow_policy='depthwise',\n",
    "              importance_type=None, interaction_constraints='',\n",
    "              learning_rate=0.02, max_bin=256, max_cat_to_onehot=4,\n",
    "              max_delta_step=0, max_depth=5, max_leaves=0, min_child_weight=5, monotone_constraints='()', n_estimators=600,\n",
    "              n_jobs=1, nthread=1, num_parallel_tree=1, predictor='auto',\n",
    "              random_state=0, reg_alpha=0)\n",
    "\n",
    "optimized_model = optimized_xgb.fit(X_train, y_train, eval_metric='logloss')\n",
    "print(\"Performance on train data:\", optimized_model.score(X_train, y_train))"
   ]
  },
  {
   "cell_type": "code",
   "execution_count": 25,
   "metadata": {},
   "outputs": [
    {
     "name": "stdout",
     "output_type": "stream",
     "text": [
      "Performance on train data: 0.8212539545585275\n"
     ]
    }
   ],
   "source": [
    "optimized_model = optimized_xgb.fit(X_train, y_train, eval_metric='logloss')\n",
    "\n",
    "print(\"Performance on train data:\", optimized_model.score(X_train, y_train))"
   ]
  },
  {
   "cell_type": "code",
   "execution_count": 26,
   "metadata": {},
   "outputs": [],
   "source": [
    "import pickle\n",
    "# open a file, where you ant to store the data\n",
    "with open('xgboost_tuned.pkl', 'wb') as file:\n",
    "    pickle.dump(optimized_model, file)\n",
    "\n",
    "with open('xgboost_tuned.pkl', 'rb') as model:\n",
    "    xgboost_loaded = pickle.load(model)"
   ]
  },
  {
   "cell_type": "code",
   "execution_count": 27,
   "metadata": {},
   "outputs": [],
   "source": [
    "y_pred = xgboost_loaded.predict(test_df)"
   ]
  },
  {
   "cell_type": "code",
   "execution_count": 29,
   "metadata": {},
   "outputs": [
    {
     "data": {
      "text/plain": [
       "array([1, 0, 1, ..., 1, 1, 1])"
      ]
     },
     "execution_count": 29,
     "metadata": {},
     "output_type": "execute_result"
    }
   ],
   "source": [
    "y_pred"
   ]
  },
  {
   "cell_type": "code",
   "execution_count": 33,
   "metadata": {},
   "outputs": [],
   "source": [
    "#Create a  DataFrame with the passengers ids and our prediction\n",
    "submission_df = pd.read_csv('sample_submission.csv')\n",
    "submission_df[\"Transported\"] = y_pred\n",
    "submission_df[\"Transported\"] = submission_df[\"Transported\"].astype(bool)"
   ]
  },
  {
   "cell_type": "code",
   "execution_count": 34,
   "metadata": {},
   "outputs": [
    {
     "data": {
      "text/html": [
       "<div>\n",
       "<style scoped>\n",
       "    .dataframe tbody tr th:only-of-type {\n",
       "        vertical-align: middle;\n",
       "    }\n",
       "\n",
       "    .dataframe tbody tr th {\n",
       "        vertical-align: top;\n",
       "    }\n",
       "\n",
       "    .dataframe thead th {\n",
       "        text-align: right;\n",
       "    }\n",
       "</style>\n",
       "<table border=\"1\" class=\"dataframe\">\n",
       "  <thead>\n",
       "    <tr style=\"text-align: right;\">\n",
       "      <th></th>\n",
       "      <th>PassengerId</th>\n",
       "      <th>Transported</th>\n",
       "    </tr>\n",
       "  </thead>\n",
       "  <tbody>\n",
       "    <tr>\n",
       "      <th>0</th>\n",
       "      <td>0013_01</td>\n",
       "      <td>True</td>\n",
       "    </tr>\n",
       "    <tr>\n",
       "      <th>1</th>\n",
       "      <td>0018_01</td>\n",
       "      <td>False</td>\n",
       "    </tr>\n",
       "    <tr>\n",
       "      <th>2</th>\n",
       "      <td>0019_01</td>\n",
       "      <td>True</td>\n",
       "    </tr>\n",
       "    <tr>\n",
       "      <th>3</th>\n",
       "      <td>0021_01</td>\n",
       "      <td>True</td>\n",
       "    </tr>\n",
       "    <tr>\n",
       "      <th>4</th>\n",
       "      <td>0023_01</td>\n",
       "      <td>True</td>\n",
       "    </tr>\n",
       "  </tbody>\n",
       "</table>\n",
       "</div>"
      ],
      "text/plain": [
       "  PassengerId  Transported\n",
       "0     0013_01         True\n",
       "1     0018_01        False\n",
       "2     0019_01         True\n",
       "3     0021_01         True\n",
       "4     0023_01         True"
      ]
     },
     "execution_count": 34,
     "metadata": {},
     "output_type": "execute_result"
    }
   ],
   "source": [
    "submission_df.head()"
   ]
  },
  {
   "cell_type": "code",
   "execution_count": null,
   "metadata": {},
   "outputs": [],
   "source": [
    "submission_df.to_csv('submission.csv', index=False)"
   ]
  }
 ],
 "metadata": {
  "interpreter": {
   "hash": "8e8e9fb63faf9466e114e2302c4266dde7a3ba5ab9878045504cf5e32dd70d3b"
  },
  "kernelspec": {
   "display_name": "Python 3.8.5 ('base')",
   "language": "python",
   "name": "python3"
  },
  "language_info": {
   "codemirror_mode": {
    "name": "ipython",
    "version": 3
   },
   "file_extension": ".py",
   "mimetype": "text/x-python",
   "name": "python",
   "nbconvert_exporter": "python",
   "pygments_lexer": "ipython3",
   "version": "3.8.5"
  },
  "orig_nbformat": 4
 },
 "nbformat": 4,
 "nbformat_minor": 2
}
